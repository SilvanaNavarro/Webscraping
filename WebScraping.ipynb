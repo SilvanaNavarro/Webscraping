{
 "cells": [
  {
   "cell_type": "code",
   "execution_count": 1,
   "id": "c654b0e3",
   "metadata": {},
   "outputs": [],
   "source": [
    "# Instalar previamente paquetes html5lib y bs4"
   ]
  },
  {
   "cell_type": "code",
   "execution_count": 2,
   "id": "ac97f0c6",
   "metadata": {},
   "outputs": [],
   "source": [
    "from bs4 import BeautifulSoup\n",
    "import html5lib\n",
    "import requests\n",
    "import pandas as pd"
   ]
  },
  {
   "cell_type": "code",
   "execution_count": 3,
   "id": "db6601c0",
   "metadata": {},
   "outputs": [],
   "source": [
    "#Extracción de datos usando WebScraping"
   ]
  },
  {
   "cell_type": "code",
   "execution_count": 3,
   "id": "62a4b860",
   "metadata": {},
   "outputs": [],
   "source": [
    "pagina=requests.get(\"https://web.archive.org/web/20200318083015/https://en.wikipedia.org/wiki/List_of_largest_banks\").text"
   ]
  },
  {
   "cell_type": "code",
   "execution_count": 4,
   "id": "0b52dafb",
   "metadata": {},
   "outputs": [],
   "source": [
    "soup=BeautifulSoup(pagina, 'html.parser')"
   ]
  },
  {
   "cell_type": "code",
   "execution_count": 5,
   "id": "f86ad69d",
   "metadata": {},
   "outputs": [
    {
     "data": {
      "text/html": [
       "<div>\n",
       "<style scoped>\n",
       "    .dataframe tbody tr th:only-of-type {\n",
       "        vertical-align: middle;\n",
       "    }\n",
       "\n",
       "    .dataframe tbody tr th {\n",
       "        vertical-align: top;\n",
       "    }\n",
       "\n",
       "    .dataframe thead th {\n",
       "        text-align: right;\n",
       "    }\n",
       "</style>\n",
       "<table border=\"1\" class=\"dataframe\">\n",
       "  <thead>\n",
       "    <tr style=\"text-align: right;\">\n",
       "      <th></th>\n",
       "      <th>Name</th>\n",
       "      <th>Market Cap (US$ Billion)</th>\n",
       "    </tr>\n",
       "  </thead>\n",
       "  <tbody>\n",
       "    <tr>\n",
       "      <th>0</th>\n",
       "      <td>United States</td>\n",
       "      <td>390.934\\n</td>\n",
       "    </tr>\n",
       "    <tr>\n",
       "      <th>1</th>\n",
       "      <td>China</td>\n",
       "      <td>345.214\\n</td>\n",
       "    </tr>\n",
       "    <tr>\n",
       "      <th>2</th>\n",
       "      <td>United States</td>\n",
       "      <td>325.331\\n</td>\n",
       "    </tr>\n",
       "    <tr>\n",
       "      <th>3</th>\n",
       "      <td>United States</td>\n",
       "      <td>308.013\\n</td>\n",
       "    </tr>\n",
       "    <tr>\n",
       "      <th>4</th>\n",
       "      <td>China</td>\n",
       "      <td>257.399\\n</td>\n",
       "    </tr>\n",
       "  </tbody>\n",
       "</table>\n",
       "</div>"
      ],
      "text/plain": [
       "            Name Market Cap (US$ Billion)\n",
       "0  United States                390.934\\n\n",
       "1          China                345.214\\n\n",
       "2  United States                325.331\\n\n",
       "3  United States                308.013\\n\n",
       "4          China                257.399\\n"
      ]
     },
     "execution_count": 5,
     "metadata": {},
     "output_type": "execute_result"
    }
   ],
   "source": [
    "columnas=[\"Name\", \"Market Cap (US$ Billion)\"]\n",
    "data=pd.DataFrame(columns=columnas)\n",
    "\n",
    "for i,row in enumerate(soup.find_all('tbody')[2].find_all('tr')):\n",
    "    if i!=0:\n",
    "        col = row.find_all('td')\n",
    "        name = col[1].find_all('a')[0].get('title')\n",
    "        marketCap = col[2].string\n",
    "        new_data= pd.DataFrame([[name,marketCap]],columns=columnas)\n",
    "        data= pd.concat([data, new_data],ignore_index=True)\n",
    "\n",
    "data.head(5) "
   ]
  },
  {
   "cell_type": "code",
   "execution_count": 7,
   "id": "8ffad4dc",
   "metadata": {},
   "outputs": [
    {
     "data": {
      "text/plain": [
       "'archivo.json'"
      ]
     },
     "execution_count": 7,
     "metadata": {},
     "output_type": "execute_result"
    }
   ],
   "source": [
    "objetivo=\"archivo.json\"\n",
    "\n",
    "def load(obj,datos):\n",
    "    datos.to_json(obj)\n",
    "    \n",
    "load(objetivo, data)\n",
    "\n",
    "objetivo\n"
   ]
  },
  {
   "cell_type": "code",
   "execution_count": 9,
   "id": "64eec357",
   "metadata": {},
   "outputs": [
    {
     "data": {
      "text/html": [
       "<div>\n",
       "<style scoped>\n",
       "    .dataframe tbody tr th:only-of-type {\n",
       "        vertical-align: middle;\n",
       "    }\n",
       "\n",
       "    .dataframe tbody tr th {\n",
       "        vertical-align: top;\n",
       "    }\n",
       "\n",
       "    .dataframe thead th {\n",
       "        text-align: right;\n",
       "    }\n",
       "</style>\n",
       "<table border=\"1\" class=\"dataframe\">\n",
       "  <thead>\n",
       "    <tr style=\"text-align: right;\">\n",
       "      <th></th>\n",
       "      <th>Name</th>\n",
       "      <th>Market Cap (US$ Billion)</th>\n",
       "    </tr>\n",
       "  </thead>\n",
       "  <tbody>\n",
       "    <tr>\n",
       "      <th>0</th>\n",
       "      <td>United States</td>\n",
       "      <td>390.934\\n</td>\n",
       "    </tr>\n",
       "    <tr>\n",
       "      <th>1</th>\n",
       "      <td>China</td>\n",
       "      <td>345.214\\n</td>\n",
       "    </tr>\n",
       "    <tr>\n",
       "      <th>2</th>\n",
       "      <td>United States</td>\n",
       "      <td>325.331\\n</td>\n",
       "    </tr>\n",
       "    <tr>\n",
       "      <th>3</th>\n",
       "      <td>United States</td>\n",
       "      <td>308.013\\n</td>\n",
       "    </tr>\n",
       "    <tr>\n",
       "      <th>4</th>\n",
       "      <td>China</td>\n",
       "      <td>257.399\\n</td>\n",
       "    </tr>\n",
       "    <tr>\n",
       "      <th>5</th>\n",
       "      <td>United Kingdom</td>\n",
       "      <td>219.270\\n</td>\n",
       "    </tr>\n",
       "    <tr>\n",
       "      <th>6</th>\n",
       "      <td>China</td>\n",
       "      <td>203.244\\n</td>\n",
       "    </tr>\n",
       "    <tr>\n",
       "      <th>7</th>\n",
       "      <td>United States</td>\n",
       "      <td>203.165\\n</td>\n",
       "    </tr>\n",
       "    <tr>\n",
       "      <th>8</th>\n",
       "      <td>China</td>\n",
       "      <td>181.469\\n</td>\n",
       "    </tr>\n",
       "    <tr>\n",
       "      <th>9</th>\n",
       "      <td>China</td>\n",
       "      <td>122.616\\n</td>\n",
       "    </tr>\n",
       "  </tbody>\n",
       "</table>\n",
       "</div>"
      ],
      "text/plain": [
       "             Name Market Cap (US$ Billion)\n",
       "0   United States                390.934\\n\n",
       "1           China                345.214\\n\n",
       "2   United States                325.331\\n\n",
       "3   United States                308.013\\n\n",
       "4           China                257.399\\n\n",
       "5  United Kingdom                219.270\\n\n",
       "6           China                203.244\\n\n",
       "7   United States                203.165\\n\n",
       "8           China                181.469\\n\n",
       "9           China                122.616\\n"
      ]
     },
     "execution_count": 9,
     "metadata": {},
     "output_type": "execute_result"
    }
   ],
   "source": [
    "data.head(10) "
   ]
  },
  {
   "cell_type": "code",
   "execution_count": null,
   "id": "ac280a50",
   "metadata": {},
   "outputs": [],
   "source": []
  }
 ],
 "metadata": {
  "kernelspec": {
   "display_name": "Python 3 (ipykernel)",
   "language": "python",
   "name": "python3"
  },
  "language_info": {
   "codemirror_mode": {
    "name": "ipython",
    "version": 3
   },
   "file_extension": ".py",
   "mimetype": "text/x-python",
   "name": "python",
   "nbconvert_exporter": "python",
   "pygments_lexer": "ipython3",
   "version": "3.11.4"
  }
 },
 "nbformat": 4,
 "nbformat_minor": 5
}
